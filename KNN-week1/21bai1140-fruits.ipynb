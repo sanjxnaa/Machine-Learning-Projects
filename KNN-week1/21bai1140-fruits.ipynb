{
 "cells": [
  {
   "cell_type": "code",
   "execution_count": 1,
   "id": "791d2690",
   "metadata": {
    "_cell_guid": "b1076dfc-b9ad-4769-8c92-a6c4dae69d19",
    "_uuid": "8f2839f25d086af736a60e9eeb907d3b93b6e0e5",
    "execution": {
     "iopub.execute_input": "2023-05-15T09:26:12.418382Z",
     "iopub.status.busy": "2023-05-15T09:26:12.417889Z",
     "iopub.status.idle": "2023-05-15T09:26:13.792075Z",
     "shell.execute_reply": "2023-05-15T09:26:13.790733Z"
    },
    "papermill": {
     "duration": 1.383571,
     "end_time": "2023-05-15T09:26:13.795038",
     "exception": false,
     "start_time": "2023-05-15T09:26:12.411467",
     "status": "completed"
    },
    "tags": []
   },
   "outputs": [
    {
     "name": "stdout",
     "output_type": "stream",
     "text": [
      "/kaggle/input/classify-fruits-fallinter-b1/sample_submission.csv\n",
      "/kaggle/input/classify-fruits-fallinter-b1/fruits_test.csv\n",
      "/kaggle/input/classify-fruits-fallinter-b1/fruits_train.csv\n"
     ]
    },
    {
     "name": "stderr",
     "output_type": "stream",
     "text": [
      "/opt/conda/lib/python3.10/site-packages/scipy/__init__.py:146: UserWarning: A NumPy version >=1.16.5 and <1.23.0 is required for this version of SciPy (detected version 1.23.5\n",
      "  warnings.warn(f\"A NumPy version >={np_minversion} and <{np_maxversion}\"\n"
     ]
    }
   ],
   "source": [
    "# This Python 3 environment comes with many helpful analytics libraries installed\n",
    "# It is defined by the kaggle/python Docker image: https://github.com/kaggle/docker-python\n",
    "# For example, here's several helpful packages to load\n",
    "\n",
    "import numpy as np # linear algebra\n",
    "import pandas as pd # data processing, CSV file I/O (e.g. pd.read_csv)\n",
    "\n",
    "# Input data files are available in the read-only \"../input/\" directory\n",
    "# For example, running this (by clicking run or pressing Shift+Enter) will list all files under the input directory\n",
    "\n",
    "import os\n",
    "for dirname, _, filenames in os.walk('/kaggle/input'):\n",
    "    for filename in filenames:\n",
    "        print(os.path.join(dirname, filename))\n",
    "\n",
    "# You can write up to 20GB to the current directory (/kaggle/working/) that gets preserved as output when you create a version using \"Save & Run All\" \n",
    "# You can also write temporary files to /kaggle/temp/, but they won't be saved outside of the current session\n",
    "\n",
    "from sklearn.preprocessing import MinMaxScaler\n",
    "from sklearn.metrics.pairwise import euclidean_distances"
   ]
  },
  {
   "cell_type": "code",
   "execution_count": 2,
   "id": "4adc813f",
   "metadata": {
    "execution": {
     "iopub.execute_input": "2023-05-15T09:26:13.806336Z",
     "iopub.status.busy": "2023-05-15T09:26:13.805889Z",
     "iopub.status.idle": "2023-05-15T09:26:13.837127Z",
     "shell.execute_reply": "2023-05-15T09:26:13.835767Z"
    },
    "papermill": {
     "duration": 0.040534,
     "end_time": "2023-05-15T09:26:13.840285",
     "exception": false,
     "start_time": "2023-05-15T09:26:13.799751",
     "status": "completed"
    },
    "tags": []
   },
   "outputs": [],
   "source": [
    "# Load the train and test data\n",
    "train_data = pd.read_csv('/kaggle/input/classify-fruits-fallinter-b1/fruits_train.csv')\n",
    "test_data = pd.read_csv('/kaggle/input/classify-fruits-fallinter-b1/fruits_test.csv')"
   ]
  },
  {
   "cell_type": "code",
   "execution_count": 3,
   "id": "f2589b50",
   "metadata": {
    "execution": {
     "iopub.execute_input": "2023-05-15T09:26:13.851315Z",
     "iopub.status.busy": "2023-05-15T09:26:13.850903Z",
     "iopub.status.idle": "2023-05-15T09:26:13.884937Z",
     "shell.execute_reply": "2023-05-15T09:26:13.883710Z"
    },
    "papermill": {
     "duration": 0.042921,
     "end_time": "2023-05-15T09:26:13.887808",
     "exception": false,
     "start_time": "2023-05-15T09:26:13.844887",
     "status": "completed"
    },
    "tags": []
   },
   "outputs": [
    {
     "data": {
      "text/html": [
       "<div>\n",
       "<style scoped>\n",
       "    .dataframe tbody tr th:only-of-type {\n",
       "        vertical-align: middle;\n",
       "    }\n",
       "\n",
       "    .dataframe tbody tr th {\n",
       "        vertical-align: top;\n",
       "    }\n",
       "\n",
       "    .dataframe thead th {\n",
       "        text-align: right;\n",
       "    }\n",
       "</style>\n",
       "<table border=\"1\" class=\"dataframe\">\n",
       "  <thead>\n",
       "    <tr style=\"text-align: right;\">\n",
       "      <th></th>\n",
       "      <th>Id</th>\n",
       "      <th>mass</th>\n",
       "      <th>width</th>\n",
       "      <th>height</th>\n",
       "      <th>label</th>\n",
       "    </tr>\n",
       "  </thead>\n",
       "  <tbody>\n",
       "    <tr>\n",
       "      <th>0</th>\n",
       "      <td>1</td>\n",
       "      <td>160</td>\n",
       "      <td>7.1</td>\n",
       "      <td>7.6</td>\n",
       "      <td>2</td>\n",
       "    </tr>\n",
       "    <tr>\n",
       "      <th>1</th>\n",
       "      <td>2</td>\n",
       "      <td>194</td>\n",
       "      <td>7.2</td>\n",
       "      <td>10.3</td>\n",
       "      <td>3</td>\n",
       "    </tr>\n",
       "    <tr>\n",
       "      <th>2</th>\n",
       "      <td>3</td>\n",
       "      <td>154</td>\n",
       "      <td>7.2</td>\n",
       "      <td>7.2</td>\n",
       "      <td>2</td>\n",
       "    </tr>\n",
       "    <tr>\n",
       "      <th>3</th>\n",
       "      <td>4</td>\n",
       "      <td>154</td>\n",
       "      <td>7.0</td>\n",
       "      <td>7.1</td>\n",
       "      <td>1</td>\n",
       "    </tr>\n",
       "    <tr>\n",
       "      <th>4</th>\n",
       "      <td>5</td>\n",
       "      <td>162</td>\n",
       "      <td>7.4</td>\n",
       "      <td>7.2</td>\n",
       "      <td>1</td>\n",
       "    </tr>\n",
       "  </tbody>\n",
       "</table>\n",
       "</div>"
      ],
      "text/plain": [
       "   Id  mass  width  height  label\n",
       "0   1   160    7.1     7.6      2\n",
       "1   2   194    7.2    10.3      3\n",
       "2   3   154    7.2     7.2      2\n",
       "3   4   154    7.0     7.1      1\n",
       "4   5   162    7.4     7.2      1"
      ]
     },
     "execution_count": 3,
     "metadata": {},
     "output_type": "execute_result"
    }
   ],
   "source": [
    "train_data.head()"
   ]
  },
  {
   "cell_type": "code",
   "execution_count": 4,
   "id": "8c0dbffb",
   "metadata": {
    "execution": {
     "iopub.execute_input": "2023-05-15T09:26:13.900484Z",
     "iopub.status.busy": "2023-05-15T09:26:13.899185Z",
     "iopub.status.idle": "2023-05-15T09:26:13.912467Z",
     "shell.execute_reply": "2023-05-15T09:26:13.911325Z"
    },
    "papermill": {
     "duration": 0.021933,
     "end_time": "2023-05-15T09:26:13.914847",
     "exception": false,
     "start_time": "2023-05-15T09:26:13.892914",
     "status": "completed"
    },
    "tags": []
   },
   "outputs": [
    {
     "data": {
      "text/html": [
       "<div>\n",
       "<style scoped>\n",
       "    .dataframe tbody tr th:only-of-type {\n",
       "        vertical-align: middle;\n",
       "    }\n",
       "\n",
       "    .dataframe tbody tr th {\n",
       "        vertical-align: top;\n",
       "    }\n",
       "\n",
       "    .dataframe thead th {\n",
       "        text-align: right;\n",
       "    }\n",
       "</style>\n",
       "<table border=\"1\" class=\"dataframe\">\n",
       "  <thead>\n",
       "    <tr style=\"text-align: right;\">\n",
       "      <th></th>\n",
       "      <th>Id</th>\n",
       "      <th>mass</th>\n",
       "      <th>width</th>\n",
       "      <th>height</th>\n",
       "    </tr>\n",
       "  </thead>\n",
       "  <tbody>\n",
       "    <tr>\n",
       "      <th>0</th>\n",
       "      <td>1</td>\n",
       "      <td>118</td>\n",
       "      <td>6.1</td>\n",
       "      <td>8.1</td>\n",
       "    </tr>\n",
       "    <tr>\n",
       "      <th>1</th>\n",
       "      <td>2</td>\n",
       "      <td>158</td>\n",
       "      <td>7.2</td>\n",
       "      <td>7.8</td>\n",
       "    </tr>\n",
       "    <tr>\n",
       "      <th>2</th>\n",
       "      <td>3</td>\n",
       "      <td>120</td>\n",
       "      <td>6.0</td>\n",
       "      <td>8.4</td>\n",
       "    </tr>\n",
       "    <tr>\n",
       "      <th>3</th>\n",
       "      <td>4</td>\n",
       "      <td>210</td>\n",
       "      <td>7.8</td>\n",
       "      <td>8.0</td>\n",
       "    </tr>\n",
       "    <tr>\n",
       "      <th>4</th>\n",
       "      <td>5</td>\n",
       "      <td>156</td>\n",
       "      <td>7.6</td>\n",
       "      <td>7.5</td>\n",
       "    </tr>\n",
       "  </tbody>\n",
       "</table>\n",
       "</div>"
      ],
      "text/plain": [
       "   Id  mass  width  height\n",
       "0   1   118    6.1     8.1\n",
       "1   2   158    7.2     7.8\n",
       "2   3   120    6.0     8.4\n",
       "3   4   210    7.8     8.0\n",
       "4   5   156    7.6     7.5"
      ]
     },
     "execution_count": 4,
     "metadata": {},
     "output_type": "execute_result"
    }
   ],
   "source": [
    "test_data.head()"
   ]
  },
  {
   "cell_type": "code",
   "execution_count": 5,
   "id": "9980368d",
   "metadata": {
    "execution": {
     "iopub.execute_input": "2023-05-15T09:26:13.926960Z",
     "iopub.status.busy": "2023-05-15T09:26:13.926321Z",
     "iopub.status.idle": "2023-05-15T09:26:13.941975Z",
     "shell.execute_reply": "2023-05-15T09:26:13.940508Z"
    },
    "papermill": {
     "duration": 0.024796,
     "end_time": "2023-05-15T09:26:13.944595",
     "exception": false,
     "start_time": "2023-05-15T09:26:13.919799",
     "status": "completed"
    },
    "tags": []
   },
   "outputs": [],
   "source": [
    "# Extract features and labels from train data\n",
    "train_features = train_data[['mass', 'width', 'height']]\n",
    "train_labels = train_data['label']\n",
    "\n",
    "# Extract features from test data\n",
    "test_features = test_data[['mass', 'width', 'height']]"
   ]
  },
  {
   "cell_type": "code",
   "execution_count": 6,
   "id": "8dd55004",
   "metadata": {
    "execution": {
     "iopub.execute_input": "2023-05-15T09:26:13.956814Z",
     "iopub.status.busy": "2023-05-15T09:26:13.956102Z",
     "iopub.status.idle": "2023-05-15T09:26:13.966839Z",
     "shell.execute_reply": "2023-05-15T09:26:13.965709Z"
    },
    "papermill": {
     "duration": 0.019792,
     "end_time": "2023-05-15T09:26:13.969435",
     "exception": false,
     "start_time": "2023-05-15T09:26:13.949643",
     "status": "completed"
    },
    "tags": []
   },
   "outputs": [],
   "source": [
    "# Normalize train features\n",
    "scaler = MinMaxScaler()\n",
    "train_features_normalized = scaler.fit_transform(train_features)\n",
    "\n",
    "# Normalize test features\n",
    "test_features_normalized = scaler.transform(test_features)"
   ]
  },
  {
   "cell_type": "code",
   "execution_count": 7,
   "id": "1914e5a4",
   "metadata": {
    "execution": {
     "iopub.execute_input": "2023-05-15T09:26:13.981540Z",
     "iopub.status.busy": "2023-05-15T09:26:13.980835Z",
     "iopub.status.idle": "2023-05-15T09:26:13.989261Z",
     "shell.execute_reply": "2023-05-15T09:26:13.987927Z"
    },
    "papermill": {
     "duration": 0.017259,
     "end_time": "2023-05-15T09:26:13.991699",
     "exception": false,
     "start_time": "2023-05-15T09:26:13.974440",
     "status": "completed"
    },
    "tags": []
   },
   "outputs": [],
   "source": [
    "# Calculate Euclidean distance between two data points\n",
    "def euclidean_distance(x1, x2):\n",
    "    x1 = np.array(x1)\n",
    "    x2 = np.array(x2)\n",
    "    return np.sqrt(np.sum((x1 - x2) ** 2))\n",
    "\n",
    "# Implement K Nearest Neighbors (KNN) algorithm\n",
    "def k_nearest_neighbors(train_data, test_data, k):\n",
    "    predictions = []\n",
    "    for test_point in test_data:\n",
    "        distances = []\n",
    "        for train_point in train_data:\n",
    "            distance = euclidean_distance(test_point, train_point)\n",
    "            distances.append(distance)\n",
    "        nearest_indices = np.argsort(distances)[:k]\n",
    "        nearest_labels = train_labels.iloc[nearest_indices]\n",
    "        prediction = nearest_labels.value_counts().idxmax()\n",
    "        predictions.append(prediction)\n",
    "    return predictions"
   ]
  },
  {
   "cell_type": "code",
   "execution_count": 8,
   "id": "3428d9ad",
   "metadata": {
    "execution": {
     "iopub.execute_input": "2023-05-15T09:26:14.004062Z",
     "iopub.status.busy": "2023-05-15T09:26:14.003003Z",
     "iopub.status.idle": "2023-05-15T09:26:14.037652Z",
     "shell.execute_reply": "2023-05-15T09:26:14.036470Z"
    },
    "papermill": {
     "duration": 0.043543,
     "end_time": "2023-05-15T09:26:14.040227",
     "exception": false,
     "start_time": "2023-05-15T09:26:13.996684",
     "status": "completed"
    },
    "tags": []
   },
   "outputs": [],
   "source": [
    "# Define the number of neighbors to consider\n",
    "k = 1\n",
    "\n",
    "# Train and test the K Nearest Neighbors model\n",
    "predictions = k_nearest_neighbors(train_features_normalized, test_features_normalized, k)"
   ]
  },
  {
   "cell_type": "code",
   "execution_count": 9,
   "id": "9a8d9f5c",
   "metadata": {
    "execution": {
     "iopub.execute_input": "2023-05-15T09:26:14.052586Z",
     "iopub.status.busy": "2023-05-15T09:26:14.052163Z",
     "iopub.status.idle": "2023-05-15T09:26:14.065537Z",
     "shell.execute_reply": "2023-05-15T09:26:14.064313Z"
    },
    "papermill": {
     "duration": 0.022447,
     "end_time": "2023-05-15T09:26:14.068225",
     "exception": false,
     "start_time": "2023-05-15T09:26:14.045778",
     "status": "completed"
    },
    "tags": []
   },
   "outputs": [],
   "source": [
    "# Create a submission DataFrame\n",
    "submission_df = pd.DataFrame({'ID': test_data['Id'], 'Category': predictions})\n",
    "\n",
    "# Save the submission DataFrame to a CSV file\n",
    "submission_df.to_csv('submission.csv', index=False)"
   ]
  },
  {
   "cell_type": "code",
   "execution_count": 10,
   "id": "fd7edc5e",
   "metadata": {
    "execution": {
     "iopub.execute_input": "2023-05-15T09:26:14.080272Z",
     "iopub.status.busy": "2023-05-15T09:26:14.079875Z",
     "iopub.status.idle": "2023-05-15T09:26:14.089269Z",
     "shell.execute_reply": "2023-05-15T09:26:14.088455Z"
    },
    "papermill": {
     "duration": 0.018015,
     "end_time": "2023-05-15T09:26:14.091337",
     "exception": false,
     "start_time": "2023-05-15T09:26:14.073322",
     "status": "completed"
    },
    "tags": []
   },
   "outputs": [
    {
     "data": {
      "text/html": [
       "<div>\n",
       "<style scoped>\n",
       "    .dataframe tbody tr th:only-of-type {\n",
       "        vertical-align: middle;\n",
       "    }\n",
       "\n",
       "    .dataframe tbody tr th {\n",
       "        vertical-align: top;\n",
       "    }\n",
       "\n",
       "    .dataframe thead th {\n",
       "        text-align: right;\n",
       "    }\n",
       "</style>\n",
       "<table border=\"1\" class=\"dataframe\">\n",
       "  <thead>\n",
       "    <tr style=\"text-align: right;\">\n",
       "      <th></th>\n",
       "      <th>ID</th>\n",
       "      <th>Category</th>\n",
       "    </tr>\n",
       "  </thead>\n",
       "  <tbody>\n",
       "    <tr>\n",
       "      <th>0</th>\n",
       "      <td>1</td>\n",
       "      <td>3</td>\n",
       "    </tr>\n",
       "    <tr>\n",
       "      <th>1</th>\n",
       "      <td>2</td>\n",
       "      <td>1</td>\n",
       "    </tr>\n",
       "    <tr>\n",
       "      <th>2</th>\n",
       "      <td>3</td>\n",
       "      <td>3</td>\n",
       "    </tr>\n",
       "    <tr>\n",
       "      <th>3</th>\n",
       "      <td>4</td>\n",
       "      <td>2</td>\n",
       "    </tr>\n",
       "    <tr>\n",
       "      <th>4</th>\n",
       "      <td>5</td>\n",
       "      <td>1</td>\n",
       "    </tr>\n",
       "    <tr>\n",
       "      <th>5</th>\n",
       "      <td>6</td>\n",
       "      <td>1</td>\n",
       "    </tr>\n",
       "    <tr>\n",
       "      <th>6</th>\n",
       "      <td>7</td>\n",
       "      <td>2</td>\n",
       "    </tr>\n",
       "    <tr>\n",
       "      <th>7</th>\n",
       "      <td>8</td>\n",
       "      <td>3</td>\n",
       "    </tr>\n",
       "    <tr>\n",
       "      <th>8</th>\n",
       "      <td>9</td>\n",
       "      <td>3</td>\n",
       "    </tr>\n",
       "    <tr>\n",
       "      <th>9</th>\n",
       "      <td>10</td>\n",
       "      <td>2</td>\n",
       "    </tr>\n",
       "    <tr>\n",
       "      <th>10</th>\n",
       "      <td>11</td>\n",
       "      <td>1</td>\n",
       "    </tr>\n",
       "    <tr>\n",
       "      <th>11</th>\n",
       "      <td>12</td>\n",
       "      <td>1</td>\n",
       "    </tr>\n",
       "    <tr>\n",
       "      <th>12</th>\n",
       "      <td>13</td>\n",
       "      <td>2</td>\n",
       "    </tr>\n",
       "    <tr>\n",
       "      <th>13</th>\n",
       "      <td>14</td>\n",
       "      <td>3</td>\n",
       "    </tr>\n",
       "  </tbody>\n",
       "</table>\n",
       "</div>"
      ],
      "text/plain": [
       "    ID  Category\n",
       "0    1         3\n",
       "1    2         1\n",
       "2    3         3\n",
       "3    4         2\n",
       "4    5         1\n",
       "5    6         1\n",
       "6    7         2\n",
       "7    8         3\n",
       "8    9         3\n",
       "9   10         2\n",
       "10  11         1\n",
       "11  12         1\n",
       "12  13         2\n",
       "13  14         3"
      ]
     },
     "execution_count": 10,
     "metadata": {},
     "output_type": "execute_result"
    }
   ],
   "source": [
    "submission_df"
   ]
  }
 ],
 "metadata": {
  "kernelspec": {
   "display_name": "Python 3",
   "language": "python",
   "name": "python3"
  },
  "language_info": {
   "codemirror_mode": {
    "name": "ipython",
    "version": 3
   },
   "file_extension": ".py",
   "mimetype": "text/x-python",
   "name": "python",
   "nbconvert_exporter": "python",
   "pygments_lexer": "ipython3",
   "version": "3.10.10"
  },
  "papermill": {
   "default_parameters": {},
   "duration": 15.101416,
   "end_time": "2023-05-15T09:26:15.019881",
   "environment_variables": {},
   "exception": null,
   "input_path": "__notebook__.ipynb",
   "output_path": "__notebook__.ipynb",
   "parameters": {},
   "start_time": "2023-05-15T09:25:59.918465",
   "version": "2.4.0"
  }
 },
 "nbformat": 4,
 "nbformat_minor": 5
}

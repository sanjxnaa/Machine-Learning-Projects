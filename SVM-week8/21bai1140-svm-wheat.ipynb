{
 "cells": [
  {
   "cell_type": "code",
   "execution_count": 1,
   "id": "75d6f891",
   "metadata": {
    "_cell_guid": "b1076dfc-b9ad-4769-8c92-a6c4dae69d19",
    "_uuid": "8f2839f25d086af736a60e9eeb907d3b93b6e0e5",
    "execution": {
     "iopub.execute_input": "2023-07-05T09:44:19.286514Z",
     "iopub.status.busy": "2023-07-05T09:44:19.286023Z",
     "iopub.status.idle": "2023-07-05T09:44:20.754987Z",
     "shell.execute_reply": "2023-07-05T09:44:20.753790Z"
    },
    "papermill": {
     "duration": 1.48069,
     "end_time": "2023-07-05T09:44:20.757747",
     "exception": false,
     "start_time": "2023-07-05T09:44:19.277057",
     "status": "completed"
    },
    "tags": []
   },
   "outputs": [
    {
     "name": "stdout",
     "output_type": "stream",
     "text": [
      "/kaggle/input/copy-of-wheet-variety-prediction-svm-b1/sample_submission.csv\n",
      "/kaggle/input/copy-of-wheet-variety-prediction-svm-b1/wheet_test.csv\n",
      "/kaggle/input/copy-of-wheet-variety-prediction-svm-b1/wheet_train.csv\n"
     ]
    }
   ],
   "source": [
    "# This Python 3 environment comes with many helpful analytics libraries installed\n",
    "# It is defined by the kaggle/python Docker image: https://github.com/kaggle/docker-python\n",
    "# For example, here's several helpful packages to load\n",
    "\n",
    "import numpy as np # linear algebra\n",
    "import pandas as pd # data processing, CSV file I/O (e.g. pd.read_csv)\n",
    "import matplotlib.pyplot as plt\n",
    "\n",
    "# Input data files are available in the read-only \"../input/\" directory\n",
    "# For example, running this (by clicking run or pressing Shift+Enter) will list all files under the input directory\n",
    "\n",
    "import os\n",
    "for dirname, _, filenames in os.walk('/kaggle/input'):\n",
    "    for filename in filenames:\n",
    "        print(os.path.join(dirname, filename))\n",
    "\n",
    "# You can write up to 20GB to the current directory (/kaggle/working/) that gets preserved as output when you create a version using \"Save & Run All\" \n",
    "# You can also write temporary files to /kaggle/temp/, but they won't be saved outside of the current session\n",
    "from sklearn.model_selection import train_test_split, cross_val_score\n",
    "from sklearn.preprocessing import StandardScaler, MinMaxScaler\n",
    "from sklearn.svm import SVC\n",
    "from sklearn.metrics import accuracy_score\n",
    "from sklearn.metrics import confusion_matrix, classification_report"
   ]
  },
  {
   "cell_type": "code",
   "execution_count": 2,
   "id": "25d1fefc",
   "metadata": {
    "execution": {
     "iopub.execute_input": "2023-07-05T09:44:20.772422Z",
     "iopub.status.busy": "2023-07-05T09:44:20.772020Z",
     "iopub.status.idle": "2023-07-05T09:44:20.832104Z",
     "shell.execute_reply": "2023-07-05T09:44:20.831050Z"
    },
    "papermill": {
     "duration": 0.070047,
     "end_time": "2023-07-05T09:44:20.834410",
     "exception": false,
     "start_time": "2023-07-05T09:44:20.764363",
     "status": "completed"
    },
    "tags": []
   },
   "outputs": [
    {
     "data": {
      "text/html": [
       "<div>\n",
       "<style scoped>\n",
       "    .dataframe tbody tr th:only-of-type {\n",
       "        vertical-align: middle;\n",
       "    }\n",
       "\n",
       "    .dataframe tbody tr th {\n",
       "        vertical-align: top;\n",
       "    }\n",
       "\n",
       "    .dataframe thead th {\n",
       "        text-align: right;\n",
       "    }\n",
       "</style>\n",
       "<table border=\"1\" class=\"dataframe\">\n",
       "  <thead>\n",
       "    <tr style=\"text-align: right;\">\n",
       "      <th></th>\n",
       "      <th>ID</th>\n",
       "      <th>area</th>\n",
       "      <th>perimeter</th>\n",
       "      <th>compactness</th>\n",
       "      <th>kernelLength</th>\n",
       "      <th>kernelWidth</th>\n",
       "      <th>asymmetryCoefficient</th>\n",
       "      <th>kernelGrooveLength.</th>\n",
       "      <th>Type</th>\n",
       "    </tr>\n",
       "  </thead>\n",
       "  <tbody>\n",
       "    <tr>\n",
       "      <th>0</th>\n",
       "      <td>1</td>\n",
       "      <td>18.59</td>\n",
       "      <td>16.05</td>\n",
       "      <td>0.9066</td>\n",
       "      <td>6.037</td>\n",
       "      <td>3.860</td>\n",
       "      <td>6.001</td>\n",
       "      <td>5.877</td>\n",
       "      <td>2</td>\n",
       "    </tr>\n",
       "    <tr>\n",
       "      <th>1</th>\n",
       "      <td>2</td>\n",
       "      <td>11.18</td>\n",
       "      <td>12.72</td>\n",
       "      <td>0.8680</td>\n",
       "      <td>5.009</td>\n",
       "      <td>2.810</td>\n",
       "      <td>4.051</td>\n",
       "      <td>4.828</td>\n",
       "      <td>3</td>\n",
       "    </tr>\n",
       "    <tr>\n",
       "      <th>2</th>\n",
       "      <td>3</td>\n",
       "      <td>15.99</td>\n",
       "      <td>14.89</td>\n",
       "      <td>0.9064</td>\n",
       "      <td>5.363</td>\n",
       "      <td>3.582</td>\n",
       "      <td>3.336</td>\n",
       "      <td>5.144</td>\n",
       "      <td>2</td>\n",
       "    </tr>\n",
       "    <tr>\n",
       "      <th>3</th>\n",
       "      <td>4</td>\n",
       "      <td>15.38</td>\n",
       "      <td>14.90</td>\n",
       "      <td>0.8706</td>\n",
       "      <td>5.884</td>\n",
       "      <td>3.268</td>\n",
       "      <td>4.462</td>\n",
       "      <td>5.795</td>\n",
       "      <td>2</td>\n",
       "    </tr>\n",
       "    <tr>\n",
       "      <th>4</th>\n",
       "      <td>5</td>\n",
       "      <td>19.15</td>\n",
       "      <td>16.45</td>\n",
       "      <td>0.8890</td>\n",
       "      <td>6.245</td>\n",
       "      <td>3.815</td>\n",
       "      <td>3.084</td>\n",
       "      <td>6.185</td>\n",
       "      <td>2</td>\n",
       "    </tr>\n",
       "    <tr>\n",
       "      <th>...</th>\n",
       "      <td>...</td>\n",
       "      <td>...</td>\n",
       "      <td>...</td>\n",
       "      <td>...</td>\n",
       "      <td>...</td>\n",
       "      <td>...</td>\n",
       "      <td>...</td>\n",
       "      <td>...</td>\n",
       "      <td>...</td>\n",
       "    </tr>\n",
       "    <tr>\n",
       "      <th>135</th>\n",
       "      <td>136</td>\n",
       "      <td>11.65</td>\n",
       "      <td>13.07</td>\n",
       "      <td>0.8575</td>\n",
       "      <td>5.108</td>\n",
       "      <td>2.850</td>\n",
       "      <td>5.209</td>\n",
       "      <td>5.135</td>\n",
       "      <td>3</td>\n",
       "    </tr>\n",
       "    <tr>\n",
       "      <th>136</th>\n",
       "      <td>137</td>\n",
       "      <td>18.27</td>\n",
       "      <td>16.09</td>\n",
       "      <td>0.8870</td>\n",
       "      <td>6.173</td>\n",
       "      <td>3.651</td>\n",
       "      <td>2.443</td>\n",
       "      <td>6.197</td>\n",
       "      <td>2</td>\n",
       "    </tr>\n",
       "    <tr>\n",
       "      <th>137</th>\n",
       "      <td>138</td>\n",
       "      <td>12.15</td>\n",
       "      <td>13.45</td>\n",
       "      <td>0.8443</td>\n",
       "      <td>5.417</td>\n",
       "      <td>2.837</td>\n",
       "      <td>3.638</td>\n",
       "      <td>5.338</td>\n",
       "      <td>3</td>\n",
       "    </tr>\n",
       "    <tr>\n",
       "      <th>138</th>\n",
       "      <td>139</td>\n",
       "      <td>16.16</td>\n",
       "      <td>15.33</td>\n",
       "      <td>0.8644</td>\n",
       "      <td>5.845</td>\n",
       "      <td>3.395</td>\n",
       "      <td>4.266</td>\n",
       "      <td>5.795</td>\n",
       "      <td>2</td>\n",
       "    </tr>\n",
       "    <tr>\n",
       "      <th>139</th>\n",
       "      <td>140</td>\n",
       "      <td>13.84</td>\n",
       "      <td>13.94</td>\n",
       "      <td>0.8955</td>\n",
       "      <td>5.324</td>\n",
       "      <td>3.379</td>\n",
       "      <td>2.259</td>\n",
       "      <td>4.805</td>\n",
       "      <td>1</td>\n",
       "    </tr>\n",
       "  </tbody>\n",
       "</table>\n",
       "<p>140 rows × 9 columns</p>\n",
       "</div>"
      ],
      "text/plain": [
       "      ID   area  perimeter  compactness  kernelLength  kernelWidth  \\\n",
       "0      1  18.59      16.05       0.9066         6.037        3.860   \n",
       "1      2  11.18      12.72       0.8680         5.009        2.810   \n",
       "2      3  15.99      14.89       0.9064         5.363        3.582   \n",
       "3      4  15.38      14.90       0.8706         5.884        3.268   \n",
       "4      5  19.15      16.45       0.8890         6.245        3.815   \n",
       "..   ...    ...        ...          ...           ...          ...   \n",
       "135  136  11.65      13.07       0.8575         5.108        2.850   \n",
       "136  137  18.27      16.09       0.8870         6.173        3.651   \n",
       "137  138  12.15      13.45       0.8443         5.417        2.837   \n",
       "138  139  16.16      15.33       0.8644         5.845        3.395   \n",
       "139  140  13.84      13.94       0.8955         5.324        3.379   \n",
       "\n",
       "     asymmetryCoefficient  kernelGrooveLength.  Type  \n",
       "0                   6.001                5.877     2  \n",
       "1                   4.051                4.828     3  \n",
       "2                   3.336                5.144     2  \n",
       "3                   4.462                5.795     2  \n",
       "4                   3.084                6.185     2  \n",
       "..                    ...                  ...   ...  \n",
       "135                 5.209                5.135     3  \n",
       "136                 2.443                6.197     2  \n",
       "137                 3.638                5.338     3  \n",
       "138                 4.266                5.795     2  \n",
       "139                 2.259                4.805     1  \n",
       "\n",
       "[140 rows x 9 columns]"
      ]
     },
     "execution_count": 2,
     "metadata": {},
     "output_type": "execute_result"
    }
   ],
   "source": [
    "train_data = pd.read_csv(\"/kaggle/input/copy-of-wheet-variety-prediction-svm-b1/wheet_train.csv\")\n",
    "train_data"
   ]
  },
  {
   "cell_type": "code",
   "execution_count": 3,
   "id": "774fc4b5",
   "metadata": {
    "execution": {
     "iopub.execute_input": "2023-07-05T09:44:20.849670Z",
     "iopub.status.busy": "2023-07-05T09:44:20.849282Z",
     "iopub.status.idle": "2023-07-05T09:44:20.875822Z",
     "shell.execute_reply": "2023-07-05T09:44:20.874628Z"
    },
    "papermill": {
     "duration": 0.037101,
     "end_time": "2023-07-05T09:44:20.878350",
     "exception": false,
     "start_time": "2023-07-05T09:44:20.841249",
     "status": "completed"
    },
    "tags": []
   },
   "outputs": [
    {
     "data": {
      "text/html": [
       "<div>\n",
       "<style scoped>\n",
       "    .dataframe tbody tr th:only-of-type {\n",
       "        vertical-align: middle;\n",
       "    }\n",
       "\n",
       "    .dataframe tbody tr th {\n",
       "        vertical-align: top;\n",
       "    }\n",
       "\n",
       "    .dataframe thead th {\n",
       "        text-align: right;\n",
       "    }\n",
       "</style>\n",
       "<table border=\"1\" class=\"dataframe\">\n",
       "  <thead>\n",
       "    <tr style=\"text-align: right;\">\n",
       "      <th></th>\n",
       "      <th>ID</th>\n",
       "      <th>area</th>\n",
       "      <th>perimeter</th>\n",
       "      <th>compactness</th>\n",
       "      <th>kernelLength</th>\n",
       "      <th>kernelWidth</th>\n",
       "      <th>asymmetryCoefficient</th>\n",
       "      <th>kernelGrooveLength.</th>\n",
       "    </tr>\n",
       "  </thead>\n",
       "  <tbody>\n",
       "    <tr>\n",
       "      <th>0</th>\n",
       "      <td>1</td>\n",
       "      <td>18.85</td>\n",
       "      <td>16.17</td>\n",
       "      <td>0.9056</td>\n",
       "      <td>6.152</td>\n",
       "      <td>3.806</td>\n",
       "      <td>2.843</td>\n",
       "      <td>6.200</td>\n",
       "    </tr>\n",
       "    <tr>\n",
       "      <th>1</th>\n",
       "      <td>2</td>\n",
       "      <td>11.34</td>\n",
       "      <td>12.87</td>\n",
       "      <td>0.8596</td>\n",
       "      <td>5.053</td>\n",
       "      <td>2.849</td>\n",
       "      <td>3.347</td>\n",
       "      <td>5.003</td>\n",
       "    </tr>\n",
       "    <tr>\n",
       "      <th>2</th>\n",
       "      <td>3</td>\n",
       "      <td>14.86</td>\n",
       "      <td>14.67</td>\n",
       "      <td>0.8676</td>\n",
       "      <td>5.678</td>\n",
       "      <td>3.258</td>\n",
       "      <td>2.129</td>\n",
       "      <td>5.351</td>\n",
       "    </tr>\n",
       "    <tr>\n",
       "      <th>3</th>\n",
       "      <td>4</td>\n",
       "      <td>12.67</td>\n",
       "      <td>13.32</td>\n",
       "      <td>0.8977</td>\n",
       "      <td>4.984</td>\n",
       "      <td>3.135</td>\n",
       "      <td>2.300</td>\n",
       "      <td>4.745</td>\n",
       "    </tr>\n",
       "    <tr>\n",
       "      <th>4</th>\n",
       "      <td>5</td>\n",
       "      <td>11.82</td>\n",
       "      <td>13.40</td>\n",
       "      <td>0.8274</td>\n",
       "      <td>5.314</td>\n",
       "      <td>2.777</td>\n",
       "      <td>4.471</td>\n",
       "      <td>5.178</td>\n",
       "    </tr>\n",
       "    <tr>\n",
       "      <th>...</th>\n",
       "      <td>...</td>\n",
       "      <td>...</td>\n",
       "      <td>...</td>\n",
       "      <td>...</td>\n",
       "      <td>...</td>\n",
       "      <td>...</td>\n",
       "      <td>...</td>\n",
       "      <td>...</td>\n",
       "    </tr>\n",
       "    <tr>\n",
       "      <th>65</th>\n",
       "      <td>66</td>\n",
       "      <td>15.11</td>\n",
       "      <td>14.54</td>\n",
       "      <td>0.8986</td>\n",
       "      <td>5.579</td>\n",
       "      <td>3.462</td>\n",
       "      <td>3.128</td>\n",
       "      <td>5.180</td>\n",
       "    </tr>\n",
       "    <tr>\n",
       "      <th>66</th>\n",
       "      <td>67</td>\n",
       "      <td>18.14</td>\n",
       "      <td>16.12</td>\n",
       "      <td>0.8772</td>\n",
       "      <td>6.059</td>\n",
       "      <td>3.563</td>\n",
       "      <td>3.619</td>\n",
       "      <td>6.011</td>\n",
       "    </tr>\n",
       "    <tr>\n",
       "      <th>67</th>\n",
       "      <td>68</td>\n",
       "      <td>11.21</td>\n",
       "      <td>13.13</td>\n",
       "      <td>0.8167</td>\n",
       "      <td>5.279</td>\n",
       "      <td>2.687</td>\n",
       "      <td>6.169</td>\n",
       "      <td>5.275</td>\n",
       "    </tr>\n",
       "    <tr>\n",
       "      <th>68</th>\n",
       "      <td>69</td>\n",
       "      <td>15.57</td>\n",
       "      <td>15.15</td>\n",
       "      <td>0.8527</td>\n",
       "      <td>5.920</td>\n",
       "      <td>3.231</td>\n",
       "      <td>2.640</td>\n",
       "      <td>5.879</td>\n",
       "    </tr>\n",
       "    <tr>\n",
       "      <th>69</th>\n",
       "      <td>70</td>\n",
       "      <td>13.16</td>\n",
       "      <td>13.55</td>\n",
       "      <td>0.9009</td>\n",
       "      <td>5.138</td>\n",
       "      <td>3.201</td>\n",
       "      <td>2.461</td>\n",
       "      <td>4.783</td>\n",
       "    </tr>\n",
       "  </tbody>\n",
       "</table>\n",
       "<p>70 rows × 8 columns</p>\n",
       "</div>"
      ],
      "text/plain": [
       "    ID   area  perimeter  compactness  kernelLength  kernelWidth  \\\n",
       "0    1  18.85      16.17       0.9056         6.152        3.806   \n",
       "1    2  11.34      12.87       0.8596         5.053        2.849   \n",
       "2    3  14.86      14.67       0.8676         5.678        3.258   \n",
       "3    4  12.67      13.32       0.8977         4.984        3.135   \n",
       "4    5  11.82      13.40       0.8274         5.314        2.777   \n",
       "..  ..    ...        ...          ...           ...          ...   \n",
       "65  66  15.11      14.54       0.8986         5.579        3.462   \n",
       "66  67  18.14      16.12       0.8772         6.059        3.563   \n",
       "67  68  11.21      13.13       0.8167         5.279        2.687   \n",
       "68  69  15.57      15.15       0.8527         5.920        3.231   \n",
       "69  70  13.16      13.55       0.9009         5.138        3.201   \n",
       "\n",
       "    asymmetryCoefficient  kernelGrooveLength.  \n",
       "0                  2.843                6.200  \n",
       "1                  3.347                5.003  \n",
       "2                  2.129                5.351  \n",
       "3                  2.300                4.745  \n",
       "4                  4.471                5.178  \n",
       "..                   ...                  ...  \n",
       "65                 3.128                5.180  \n",
       "66                 3.619                6.011  \n",
       "67                 6.169                5.275  \n",
       "68                 2.640                5.879  \n",
       "69                 2.461                4.783  \n",
       "\n",
       "[70 rows x 8 columns]"
      ]
     },
     "execution_count": 3,
     "metadata": {},
     "output_type": "execute_result"
    }
   ],
   "source": [
    "test_data = pd.read_csv(\"/kaggle/input/copy-of-wheet-variety-prediction-svm-b1/wheet_test.csv\")\n",
    "test_df = test_data\n",
    "test_data"
   ]
  },
  {
   "cell_type": "code",
   "execution_count": 4,
   "id": "af4b411f",
   "metadata": {
    "execution": {
     "iopub.execute_input": "2023-07-05T09:44:20.895490Z",
     "iopub.status.busy": "2023-07-05T09:44:20.894612Z",
     "iopub.status.idle": "2023-07-05T09:44:20.903612Z",
     "shell.execute_reply": "2023-07-05T09:44:20.902606Z"
    },
    "papermill": {
     "duration": 0.020142,
     "end_time": "2023-07-05T09:44:20.905988",
     "exception": false,
     "start_time": "2023-07-05T09:44:20.885846",
     "status": "completed"
    },
    "tags": []
   },
   "outputs": [
    {
     "data": {
      "text/plain": [
       "ID                      0\n",
       "area                    0\n",
       "perimeter               0\n",
       "compactness             0\n",
       "kernelLength            0\n",
       "kernelWidth             0\n",
       "asymmetryCoefficient    0\n",
       "kernelGrooveLength.     0\n",
       "Type                    0\n",
       "dtype: int64"
      ]
     },
     "execution_count": 4,
     "metadata": {},
     "output_type": "execute_result"
    }
   ],
   "source": [
    "train_data.isnull().sum()\n",
    "#theres no null values in the dataset"
   ]
  },
  {
   "cell_type": "code",
   "execution_count": 5,
   "id": "031d9de4",
   "metadata": {
    "execution": {
     "iopub.execute_input": "2023-07-05T09:44:20.922366Z",
     "iopub.status.busy": "2023-07-05T09:44:20.921979Z",
     "iopub.status.idle": "2023-07-05T09:44:20.928030Z",
     "shell.execute_reply": "2023-07-05T09:44:20.927006Z"
    },
    "papermill": {
     "duration": 0.016834,
     "end_time": "2023-07-05T09:44:20.930248",
     "exception": false,
     "start_time": "2023-07-05T09:44:20.913414",
     "status": "completed"
    },
    "tags": []
   },
   "outputs": [],
   "source": [
    "X = train_data.iloc[:, 1:-1] # Exclude the first column and the last column\n",
    "y = train_data.iloc[:, -1]\n",
    "test_data = test_data.iloc[:,1:]"
   ]
  },
  {
   "cell_type": "code",
   "execution_count": 6,
   "id": "7af347b9",
   "metadata": {
    "execution": {
     "iopub.execute_input": "2023-07-05T09:44:20.948499Z",
     "iopub.status.busy": "2023-07-05T09:44:20.947788Z",
     "iopub.status.idle": "2023-07-05T09:44:20.969020Z",
     "shell.execute_reply": "2023-07-05T09:44:20.967934Z"
    },
    "papermill": {
     "duration": 0.033659,
     "end_time": "2023-07-05T09:44:20.971275",
     "exception": false,
     "start_time": "2023-07-05T09:44:20.937616",
     "status": "completed"
    },
    "tags": []
   },
   "outputs": [
    {
     "data": {
      "text/html": [
       "<div>\n",
       "<style scoped>\n",
       "    .dataframe tbody tr th:only-of-type {\n",
       "        vertical-align: middle;\n",
       "    }\n",
       "\n",
       "    .dataframe tbody tr th {\n",
       "        vertical-align: top;\n",
       "    }\n",
       "\n",
       "    .dataframe thead th {\n",
       "        text-align: right;\n",
       "    }\n",
       "</style>\n",
       "<table border=\"1\" class=\"dataframe\">\n",
       "  <thead>\n",
       "    <tr style=\"text-align: right;\">\n",
       "      <th></th>\n",
       "      <th>area</th>\n",
       "      <th>perimeter</th>\n",
       "      <th>compactness</th>\n",
       "      <th>kernelLength</th>\n",
       "      <th>kernelWidth</th>\n",
       "      <th>asymmetryCoefficient</th>\n",
       "      <th>kernelGrooveLength.</th>\n",
       "    </tr>\n",
       "  </thead>\n",
       "  <tbody>\n",
       "    <tr>\n",
       "      <th>0</th>\n",
       "      <td>18.85</td>\n",
       "      <td>16.17</td>\n",
       "      <td>0.9056</td>\n",
       "      <td>6.152</td>\n",
       "      <td>3.806</td>\n",
       "      <td>2.843</td>\n",
       "      <td>6.200</td>\n",
       "    </tr>\n",
       "    <tr>\n",
       "      <th>1</th>\n",
       "      <td>11.34</td>\n",
       "      <td>12.87</td>\n",
       "      <td>0.8596</td>\n",
       "      <td>5.053</td>\n",
       "      <td>2.849</td>\n",
       "      <td>3.347</td>\n",
       "      <td>5.003</td>\n",
       "    </tr>\n",
       "    <tr>\n",
       "      <th>2</th>\n",
       "      <td>14.86</td>\n",
       "      <td>14.67</td>\n",
       "      <td>0.8676</td>\n",
       "      <td>5.678</td>\n",
       "      <td>3.258</td>\n",
       "      <td>2.129</td>\n",
       "      <td>5.351</td>\n",
       "    </tr>\n",
       "    <tr>\n",
       "      <th>3</th>\n",
       "      <td>12.67</td>\n",
       "      <td>13.32</td>\n",
       "      <td>0.8977</td>\n",
       "      <td>4.984</td>\n",
       "      <td>3.135</td>\n",
       "      <td>2.300</td>\n",
       "      <td>4.745</td>\n",
       "    </tr>\n",
       "    <tr>\n",
       "      <th>4</th>\n",
       "      <td>11.82</td>\n",
       "      <td>13.40</td>\n",
       "      <td>0.8274</td>\n",
       "      <td>5.314</td>\n",
       "      <td>2.777</td>\n",
       "      <td>4.471</td>\n",
       "      <td>5.178</td>\n",
       "    </tr>\n",
       "    <tr>\n",
       "      <th>...</th>\n",
       "      <td>...</td>\n",
       "      <td>...</td>\n",
       "      <td>...</td>\n",
       "      <td>...</td>\n",
       "      <td>...</td>\n",
       "      <td>...</td>\n",
       "      <td>...</td>\n",
       "    </tr>\n",
       "    <tr>\n",
       "      <th>65</th>\n",
       "      <td>15.11</td>\n",
       "      <td>14.54</td>\n",
       "      <td>0.8986</td>\n",
       "      <td>5.579</td>\n",
       "      <td>3.462</td>\n",
       "      <td>3.128</td>\n",
       "      <td>5.180</td>\n",
       "    </tr>\n",
       "    <tr>\n",
       "      <th>66</th>\n",
       "      <td>18.14</td>\n",
       "      <td>16.12</td>\n",
       "      <td>0.8772</td>\n",
       "      <td>6.059</td>\n",
       "      <td>3.563</td>\n",
       "      <td>3.619</td>\n",
       "      <td>6.011</td>\n",
       "    </tr>\n",
       "    <tr>\n",
       "      <th>67</th>\n",
       "      <td>11.21</td>\n",
       "      <td>13.13</td>\n",
       "      <td>0.8167</td>\n",
       "      <td>5.279</td>\n",
       "      <td>2.687</td>\n",
       "      <td>6.169</td>\n",
       "      <td>5.275</td>\n",
       "    </tr>\n",
       "    <tr>\n",
       "      <th>68</th>\n",
       "      <td>15.57</td>\n",
       "      <td>15.15</td>\n",
       "      <td>0.8527</td>\n",
       "      <td>5.920</td>\n",
       "      <td>3.231</td>\n",
       "      <td>2.640</td>\n",
       "      <td>5.879</td>\n",
       "    </tr>\n",
       "    <tr>\n",
       "      <th>69</th>\n",
       "      <td>13.16</td>\n",
       "      <td>13.55</td>\n",
       "      <td>0.9009</td>\n",
       "      <td>5.138</td>\n",
       "      <td>3.201</td>\n",
       "      <td>2.461</td>\n",
       "      <td>4.783</td>\n",
       "    </tr>\n",
       "  </tbody>\n",
       "</table>\n",
       "<p>70 rows × 7 columns</p>\n",
       "</div>"
      ],
      "text/plain": [
       "     area  perimeter  compactness  kernelLength  kernelWidth  \\\n",
       "0   18.85      16.17       0.9056         6.152        3.806   \n",
       "1   11.34      12.87       0.8596         5.053        2.849   \n",
       "2   14.86      14.67       0.8676         5.678        3.258   \n",
       "3   12.67      13.32       0.8977         4.984        3.135   \n",
       "4   11.82      13.40       0.8274         5.314        2.777   \n",
       "..    ...        ...          ...           ...          ...   \n",
       "65  15.11      14.54       0.8986         5.579        3.462   \n",
       "66  18.14      16.12       0.8772         6.059        3.563   \n",
       "67  11.21      13.13       0.8167         5.279        2.687   \n",
       "68  15.57      15.15       0.8527         5.920        3.231   \n",
       "69  13.16      13.55       0.9009         5.138        3.201   \n",
       "\n",
       "    asymmetryCoefficient  kernelGrooveLength.  \n",
       "0                  2.843                6.200  \n",
       "1                  3.347                5.003  \n",
       "2                  2.129                5.351  \n",
       "3                  2.300                4.745  \n",
       "4                  4.471                5.178  \n",
       "..                   ...                  ...  \n",
       "65                 3.128                5.180  \n",
       "66                 3.619                6.011  \n",
       "67                 6.169                5.275  \n",
       "68                 2.640                5.879  \n",
       "69                 2.461                4.783  \n",
       "\n",
       "[70 rows x 7 columns]"
      ]
     },
     "execution_count": 6,
     "metadata": {},
     "output_type": "execute_result"
    }
   ],
   "source": [
    "test_data"
   ]
  },
  {
   "cell_type": "code",
   "execution_count": 7,
   "id": "0e2a209c",
   "metadata": {
    "execution": {
     "iopub.execute_input": "2023-07-05T09:44:20.988785Z",
     "iopub.status.busy": "2023-07-05T09:44:20.988338Z",
     "iopub.status.idle": "2023-07-05T09:44:20.995941Z",
     "shell.execute_reply": "2023-07-05T09:44:20.994868Z"
    },
    "papermill": {
     "duration": 0.0192,
     "end_time": "2023-07-05T09:44:20.998251",
     "exception": false,
     "start_time": "2023-07-05T09:44:20.979051",
     "status": "completed"
    },
    "tags": []
   },
   "outputs": [],
   "source": [
    "# Split the data into training and testing sets\n",
    "X_train, X_test, y_train, y_test = train_test_split(X, y, test_size=0.4, random_state=42)"
   ]
  },
  {
   "cell_type": "code",
   "execution_count": 8,
   "id": "7b30e172",
   "metadata": {
    "execution": {
     "iopub.execute_input": "2023-07-05T09:44:21.015556Z",
     "iopub.status.busy": "2023-07-05T09:44:21.014872Z",
     "iopub.status.idle": "2023-07-05T09:44:21.025029Z",
     "shell.execute_reply": "2023-07-05T09:44:21.024003Z"
    },
    "papermill": {
     "duration": 0.021248,
     "end_time": "2023-07-05T09:44:21.027329",
     "exception": false,
     "start_time": "2023-07-05T09:44:21.006081",
     "status": "completed"
    },
    "tags": []
   },
   "outputs": [],
   "source": [
    "# Preprocess the data: Scale the features\n",
    "scaler = MinMaxScaler()\n",
    "X_train_scaled = scaler.fit_transform(X_train)\n",
    "X_test_scaled = scaler.transform(X_test)"
   ]
  },
  {
   "cell_type": "code",
   "execution_count": 9,
   "id": "3037275a",
   "metadata": {
    "execution": {
     "iopub.execute_input": "2023-07-05T09:44:21.044337Z",
     "iopub.status.busy": "2023-07-05T09:44:21.043600Z",
     "iopub.status.idle": "2023-07-05T09:44:21.050269Z",
     "shell.execute_reply": "2023-07-05T09:44:21.049254Z"
    },
    "papermill": {
     "duration": 0.017828,
     "end_time": "2023-07-05T09:44:21.052428",
     "exception": false,
     "start_time": "2023-07-05T09:44:21.034600",
     "status": "completed"
    },
    "tags": []
   },
   "outputs": [],
   "source": [
    "test_data = scaler.transform(test_data)"
   ]
  },
  {
   "cell_type": "code",
   "execution_count": 10,
   "id": "94474372",
   "metadata": {
    "execution": {
     "iopub.execute_input": "2023-07-05T09:44:21.069969Z",
     "iopub.status.busy": "2023-07-05T09:44:21.068870Z",
     "iopub.status.idle": "2023-07-05T09:44:21.074350Z",
     "shell.execute_reply": "2023-07-05T09:44:21.073572Z"
    },
    "papermill": {
     "duration": 0.016359,
     "end_time": "2023-07-05T09:44:21.076507",
     "exception": false,
     "start_time": "2023-07-05T09:44:21.060148",
     "status": "completed"
    },
    "tags": []
   },
   "outputs": [],
   "source": [
    "# Train and evaluate the SVM model\n",
    "kernel_functions = [\"linear\", \"poly\", \"rbf\"]\n",
    "C_values = [0.1, 1, 10, 100]"
   ]
  },
  {
   "cell_type": "code",
   "execution_count": 11,
   "id": "181d0e8e",
   "metadata": {
    "execution": {
     "iopub.execute_input": "2023-07-05T09:44:21.094240Z",
     "iopub.status.busy": "2023-07-05T09:44:21.093206Z",
     "iopub.status.idle": "2023-07-05T09:44:21.134012Z",
     "shell.execute_reply": "2023-07-05T09:44:21.132782Z"
    },
    "papermill": {
     "duration": 0.052416,
     "end_time": "2023-07-05T09:44:21.136591",
     "exception": false,
     "start_time": "2023-07-05T09:44:21.084175",
     "status": "completed"
    },
    "tags": []
   },
   "outputs": [
    {
     "name": "stdout",
     "output_type": "stream",
     "text": [
      "Kernel: linear, C: 0.1, Accuracy: 0.875\n",
      "Kernel: linear, C: 1, Accuracy: 0.9285714285714286\n",
      "Kernel: linear, C: 10, Accuracy: 0.9464285714285714\n",
      "Kernel: linear, C: 100, Accuracy: 0.9642857142857143\n",
      "Kernel: poly, C: 0.1, Accuracy: 0.8928571428571429\n",
      "Kernel: poly, C: 1, Accuracy: 0.9285714285714286\n",
      "Kernel: poly, C: 10, Accuracy: 0.9642857142857143\n",
      "Kernel: poly, C: 100, Accuracy: 0.9642857142857143\n",
      "Kernel: rbf, C: 0.1, Accuracy: 0.9107142857142857\n",
      "Kernel: rbf, C: 1, Accuracy: 0.9285714285714286\n",
      "Kernel: rbf, C: 10, Accuracy: 0.9285714285714286\n",
      "Kernel: rbf, C: 100, Accuracy: 0.9285714285714286\n"
     ]
    }
   ],
   "source": [
    "for kernel in kernel_functions:\n",
    "    for C in C_values:\n",
    "        # Create SVM classifier with the specified kernel and C value\n",
    "        svm_classifier = SVC(kernel=kernel, C=C, random_state=42)\n",
    "        \n",
    "        # Train the model\n",
    "        svm_classifier.fit(X_train_scaled, y_train)\n",
    "        \n",
    "        # Make predictions on the test set\n",
    "        y_pred = svm_classifier.predict(X_test_scaled)\n",
    "        \n",
    "        # Calculate the accuracy score\n",
    "        accuracy = accuracy_score(y_test, y_pred)\n",
    "        \n",
    "        print(f\"Kernel: {kernel}, C: {C}, Accuracy: {accuracy}\")"
   ]
  },
  {
   "cell_type": "code",
   "execution_count": 12,
   "id": "24eae956",
   "metadata": {
    "execution": {
     "iopub.execute_input": "2023-07-05T09:44:21.154237Z",
     "iopub.status.busy": "2023-07-05T09:44:21.153872Z",
     "iopub.status.idle": "2023-07-05T09:44:21.169144Z",
     "shell.execute_reply": "2023-07-05T09:44:21.168338Z"
    },
    "papermill": {
     "duration": 0.026607,
     "end_time": "2023-07-05T09:44:21.171119",
     "exception": false,
     "start_time": "2023-07-05T09:44:21.144512",
     "status": "completed"
    },
    "tags": []
   },
   "outputs": [
    {
     "data": {
      "text/html": [
       "<style>#sk-container-id-1 {color: black;background-color: white;}#sk-container-id-1 pre{padding: 0;}#sk-container-id-1 div.sk-toggleable {background-color: white;}#sk-container-id-1 label.sk-toggleable__label {cursor: pointer;display: block;width: 100%;margin-bottom: 0;padding: 0.3em;box-sizing: border-box;text-align: center;}#sk-container-id-1 label.sk-toggleable__label-arrow:before {content: \"▸\";float: left;margin-right: 0.25em;color: #696969;}#sk-container-id-1 label.sk-toggleable__label-arrow:hover:before {color: black;}#sk-container-id-1 div.sk-estimator:hover label.sk-toggleable__label-arrow:before {color: black;}#sk-container-id-1 div.sk-toggleable__content {max-height: 0;max-width: 0;overflow: hidden;text-align: left;background-color: #f0f8ff;}#sk-container-id-1 div.sk-toggleable__content pre {margin: 0.2em;color: black;border-radius: 0.25em;background-color: #f0f8ff;}#sk-container-id-1 input.sk-toggleable__control:checked~div.sk-toggleable__content {max-height: 200px;max-width: 100%;overflow: auto;}#sk-container-id-1 input.sk-toggleable__control:checked~label.sk-toggleable__label-arrow:before {content: \"▾\";}#sk-container-id-1 div.sk-estimator input.sk-toggleable__control:checked~label.sk-toggleable__label {background-color: #d4ebff;}#sk-container-id-1 div.sk-label input.sk-toggleable__control:checked~label.sk-toggleable__label {background-color: #d4ebff;}#sk-container-id-1 input.sk-hidden--visually {border: 0;clip: rect(1px 1px 1px 1px);clip: rect(1px, 1px, 1px, 1px);height: 1px;margin: -1px;overflow: hidden;padding: 0;position: absolute;width: 1px;}#sk-container-id-1 div.sk-estimator {font-family: monospace;background-color: #f0f8ff;border: 1px dotted black;border-radius: 0.25em;box-sizing: border-box;margin-bottom: 0.5em;}#sk-container-id-1 div.sk-estimator:hover {background-color: #d4ebff;}#sk-container-id-1 div.sk-parallel-item::after {content: \"\";width: 100%;border-bottom: 1px solid gray;flex-grow: 1;}#sk-container-id-1 div.sk-label:hover label.sk-toggleable__label {background-color: #d4ebff;}#sk-container-id-1 div.sk-serial::before {content: \"\";position: absolute;border-left: 1px solid gray;box-sizing: border-box;top: 0;bottom: 0;left: 50%;z-index: 0;}#sk-container-id-1 div.sk-serial {display: flex;flex-direction: column;align-items: center;background-color: white;padding-right: 0.2em;padding-left: 0.2em;position: relative;}#sk-container-id-1 div.sk-item {position: relative;z-index: 1;}#sk-container-id-1 div.sk-parallel {display: flex;align-items: stretch;justify-content: center;background-color: white;position: relative;}#sk-container-id-1 div.sk-item::before, #sk-container-id-1 div.sk-parallel-item::before {content: \"\";position: absolute;border-left: 1px solid gray;box-sizing: border-box;top: 0;bottom: 0;left: 50%;z-index: -1;}#sk-container-id-1 div.sk-parallel-item {display: flex;flex-direction: column;z-index: 1;position: relative;background-color: white;}#sk-container-id-1 div.sk-parallel-item:first-child::after {align-self: flex-end;width: 50%;}#sk-container-id-1 div.sk-parallel-item:last-child::after {align-self: flex-start;width: 50%;}#sk-container-id-1 div.sk-parallel-item:only-child::after {width: 0;}#sk-container-id-1 div.sk-dashed-wrapped {border: 1px dashed gray;margin: 0 0.4em 0.5em 0.4em;box-sizing: border-box;padding-bottom: 0.4em;background-color: white;}#sk-container-id-1 div.sk-label label {font-family: monospace;font-weight: bold;display: inline-block;line-height: 1.2em;}#sk-container-id-1 div.sk-label-container {text-align: center;}#sk-container-id-1 div.sk-container {/* jupyter's `normalize.less` sets `[hidden] { display: none; }` but bootstrap.min.css set `[hidden] { display: none !important; }` so we also need the `!important` here to be able to override the default hidden behavior on the sphinx rendered scikit-learn.org. See: https://github.com/scikit-learn/scikit-learn/issues/21755 */display: inline-block !important;position: relative;}#sk-container-id-1 div.sk-text-repr-fallback {display: none;}</style><div id=\"sk-container-id-1\" class=\"sk-top-container\"><div class=\"sk-text-repr-fallback\"><pre>SVC(C=100, kernel=&#x27;linear&#x27;, random_state=42)</pre><b>In a Jupyter environment, please rerun this cell to show the HTML representation or trust the notebook. <br />On GitHub, the HTML representation is unable to render, please try loading this page with nbviewer.org.</b></div><div class=\"sk-container\" hidden><div class=\"sk-item\"><div class=\"sk-estimator sk-toggleable\"><input class=\"sk-toggleable__control sk-hidden--visually\" id=\"sk-estimator-id-1\" type=\"checkbox\" checked><label for=\"sk-estimator-id-1\" class=\"sk-toggleable__label sk-toggleable__label-arrow\">SVC</label><div class=\"sk-toggleable__content\"><pre>SVC(C=100, kernel=&#x27;linear&#x27;, random_state=42)</pre></div></div></div></div></div>"
      ],
      "text/plain": [
       "SVC(C=100, kernel='linear', random_state=42)"
      ]
     },
     "execution_count": 12,
     "metadata": {},
     "output_type": "execute_result"
    }
   ],
   "source": [
    "model = SVC(kernel =\"linear\", C=100, random_state=42)\n",
    "model.fit(X_train_scaled, y_train)"
   ]
  },
  {
   "cell_type": "code",
   "execution_count": 13,
   "id": "4c35908f",
   "metadata": {
    "execution": {
     "iopub.execute_input": "2023-07-05T09:44:21.189330Z",
     "iopub.status.busy": "2023-07-05T09:44:21.188425Z",
     "iopub.status.idle": "2023-07-05T09:44:21.220761Z",
     "shell.execute_reply": "2023-07-05T09:44:21.219974Z"
    },
    "papermill": {
     "duration": 0.044307,
     "end_time": "2023-07-05T09:44:21.223568",
     "exception": false,
     "start_time": "2023-07-05T09:44:21.179261",
     "status": "completed"
    },
    "tags": []
   },
   "outputs": [
    {
     "name": "stdout",
     "output_type": "stream",
     "text": [
      "Cross-Validation Accuracy Scores: [0.83333333 0.83333333 1.         0.75       0.91666667 0.91666667\n",
      " 0.83333333]\n",
      "Average Cross-Validation Accuracy: 0.8690476190476192\n"
     ]
    }
   ],
   "source": [
    "# Perform cross-validation\n",
    "cv_scores = cross_val_score(svm_classifier, X_train_scaled, y_train, cv=7)\n",
    "\n",
    "print(\"Cross-Validation Accuracy Scores:\", cv_scores)\n",
    "print(\"Average Cross-Validation Accuracy:\", cv_scores.mean())"
   ]
  },
  {
   "cell_type": "code",
   "execution_count": 14,
   "id": "2fcd13cb",
   "metadata": {
    "execution": {
     "iopub.execute_input": "2023-07-05T09:44:21.242125Z",
     "iopub.status.busy": "2023-07-05T09:44:21.241697Z",
     "iopub.status.idle": "2023-07-05T09:44:21.246956Z",
     "shell.execute_reply": "2023-07-05T09:44:21.245902Z"
    },
    "papermill": {
     "duration": 0.017064,
     "end_time": "2023-07-05T09:44:21.249258",
     "exception": false,
     "start_time": "2023-07-05T09:44:21.232194",
     "status": "completed"
    },
    "tags": []
   },
   "outputs": [],
   "source": [
    "predictions = model.predict(test_data)"
   ]
  },
  {
   "cell_type": "code",
   "execution_count": 15,
   "id": "7a922548",
   "metadata": {
    "execution": {
     "iopub.execute_input": "2023-07-05T09:44:21.268526Z",
     "iopub.status.busy": "2023-07-05T09:44:21.268154Z",
     "iopub.status.idle": "2023-07-05T09:44:21.833749Z",
     "shell.execute_reply": "2023-07-05T09:44:21.832976Z"
    },
    "papermill": {
     "duration": 0.577703,
     "end_time": "2023-07-05T09:44:21.835798",
     "exception": false,
     "start_time": "2023-07-05T09:44:21.258095",
     "status": "completed"
    },
    "tags": []
   },
   "outputs": [
    {
     "data": {
      "image/png": "[encoded data removed]",
      "text/plain": [
       "<Figure size 800x600 with 1 Axes>"
      ]
     },
     "metadata": {},
     "output_type": "display_data"
    }
   ],
   "source": [
    "import seaborn as sns\n",
    "# Create a confusion matrix\n",
    "cm = confusion_matrix(y_test, y_pred)\n",
    "\n",
    "# Create a heatmap of the confusion matrix\n",
    "plt.figure(figsize=(8, 6))\n",
    "sns.heatmap(cm, annot=True, fmt=\"d\", cmap=\"Blues\", cbar=False)\n",
    "plt.title(\"Confusion Matrix\")\n",
    "plt.xlabel(\"Predicted Label\")\n",
    "plt.ylabel(\"True Label\")\n",
    "plt.show()"
   ]
  },
  {
   "cell_type": "code",
   "execution_count": 16,
   "id": "d319042d",
   "metadata": {
    "execution": {
     "iopub.execute_input": "2023-07-05T09:44:21.856123Z",
     "iopub.status.busy": "2023-07-05T09:44:21.855215Z",
     "iopub.status.idle": "2023-07-05T09:44:21.869347Z",
     "shell.execute_reply": "2023-07-05T09:44:21.868076Z"
    },
    "papermill": {
     "duration": 0.0279,
     "end_time": "2023-07-05T09:44:21.872417",
     "exception": false,
     "start_time": "2023-07-05T09:44:21.844517",
     "status": "completed"
    },
    "tags": []
   },
   "outputs": [
    {
     "name": "stdout",
     "output_type": "stream",
     "text": [
      "              precision    recall  f1-score   support\n",
      "\n",
      "           1       0.86      0.95      0.90        19\n",
      "           2       0.95      0.95      0.95        21\n",
      "           3       1.00      0.88      0.93        16\n",
      "\n",
      "    accuracy                           0.93        56\n",
      "   macro avg       0.94      0.92      0.93        56\n",
      "weighted avg       0.93      0.93      0.93        56\n",
      "\n"
     ]
    }
   ],
   "source": [
    "print(classification_report(y_test, y_pred))"
   ]
  },
  {
   "cell_type": "code",
   "execution_count": 17,
   "id": "b90f44c5",
   "metadata": {
    "execution": {
     "iopub.execute_input": "2023-07-05T09:44:21.891172Z",
     "iopub.status.busy": "2023-07-05T09:44:21.890762Z",
     "iopub.status.idle": "2023-07-05T09:44:21.902941Z",
     "shell.execute_reply": "2023-07-05T09:44:21.901769Z"
    },
    "papermill": {
     "duration": 0.024317,
     "end_time": "2023-07-05T09:44:21.905279",
     "exception": false,
     "start_time": "2023-07-05T09:44:21.880962",
     "status": "completed"
    },
    "tags": []
   },
   "outputs": [],
   "source": [
    "#Create the submission file\n",
    "submission = pd.DataFrame({\"ID\": test_df[\"ID\"], \"Type\": predictions})\n",
    "submission.to_csv(\"submission.csv\", index=False)"
   ]
  },
  {
   "cell_type": "code",
   "execution_count": 18,
   "id": "62ddafed",
   "metadata": {
    "execution": {
     "iopub.execute_input": "2023-07-05T09:44:21.924963Z",
     "iopub.status.busy": "2023-07-05T09:44:21.924539Z",
     "iopub.status.idle": "2023-07-05T09:44:21.935947Z",
     "shell.execute_reply": "2023-07-05T09:44:21.934912Z"
    },
    "papermill": {
     "duration": 0.023795,
     "end_time": "2023-07-05T09:44:21.938128",
     "exception": false,
     "start_time": "2023-07-05T09:44:21.914333",
     "status": "completed"
    },
    "tags": []
   },
   "outputs": [
    {
     "data": {
      "text/html": [
       "<div>\n",
       "<style scoped>\n",
       "    .dataframe tbody tr th:only-of-type {\n",
       "        vertical-align: middle;\n",
       "    }\n",
       "\n",
       "    .dataframe tbody tr th {\n",
       "        vertical-align: top;\n",
       "    }\n",
       "\n",
       "    .dataframe thead th {\n",
       "        text-align: right;\n",
       "    }\n",
       "</style>\n",
       "<table border=\"1\" class=\"dataframe\">\n",
       "  <thead>\n",
       "    <tr style=\"text-align: right;\">\n",
       "      <th></th>\n",
       "      <th>ID</th>\n",
       "      <th>Type</th>\n",
       "    </tr>\n",
       "  </thead>\n",
       "  <tbody>\n",
       "    <tr>\n",
       "      <th>0</th>\n",
       "      <td>1</td>\n",
       "      <td>2</td>\n",
       "    </tr>\n",
       "    <tr>\n",
       "      <th>1</th>\n",
       "      <td>2</td>\n",
       "      <td>3</td>\n",
       "    </tr>\n",
       "    <tr>\n",
       "      <th>2</th>\n",
       "      <td>3</td>\n",
       "      <td>1</td>\n",
       "    </tr>\n",
       "    <tr>\n",
       "      <th>3</th>\n",
       "      <td>4</td>\n",
       "      <td>1</td>\n",
       "    </tr>\n",
       "    <tr>\n",
       "      <th>4</th>\n",
       "      <td>5</td>\n",
       "      <td>3</td>\n",
       "    </tr>\n",
       "    <tr>\n",
       "      <th>...</th>\n",
       "      <td>...</td>\n",
       "      <td>...</td>\n",
       "    </tr>\n",
       "    <tr>\n",
       "      <th>65</th>\n",
       "      <td>66</td>\n",
       "      <td>1</td>\n",
       "    </tr>\n",
       "    <tr>\n",
       "      <th>66</th>\n",
       "      <td>67</td>\n",
       "      <td>2</td>\n",
       "    </tr>\n",
       "    <tr>\n",
       "      <th>67</th>\n",
       "      <td>68</td>\n",
       "      <td>3</td>\n",
       "    </tr>\n",
       "    <tr>\n",
       "      <th>68</th>\n",
       "      <td>69</td>\n",
       "      <td>1</td>\n",
       "    </tr>\n",
       "    <tr>\n",
       "      <th>69</th>\n",
       "      <td>70</td>\n",
       "      <td>1</td>\n",
       "    </tr>\n",
       "  </tbody>\n",
       "</table>\n",
       "<p>70 rows × 2 columns</p>\n",
       "</div>"
      ],
      "text/plain": [
       "    ID  Type\n",
       "0    1     2\n",
       "1    2     3\n",
       "2    3     1\n",
       "3    4     1\n",
       "4    5     3\n",
       "..  ..   ...\n",
       "65  66     1\n",
       "66  67     2\n",
       "67  68     3\n",
       "68  69     1\n",
       "69  70     1\n",
       "\n",
       "[70 rows x 2 columns]"
      ]
     },
     "execution_count": 18,
     "metadata": {},
     "output_type": "execute_result"
    }
   ],
   "source": [
    "submission"
   ]
  }
 ],
 "metadata": {
  "kernelspec": {
   "display_name": "Python 3",
   "language": "python",
   "name": "python3"
  },
  "language_info": {
   "codemirror_mode": {
    "name": "ipython",
    "version": 3
   },
   "file_extension": ".py",
   "mimetype": "text/x-python",
   "name": "python",
   "nbconvert_exporter": "python",
   "pygments_lexer": "ipython3",
   "version": "3.10.10"
  },
  "papermill": {
   "default_parameters": {},
   "duration": 15.361521,
   "end_time": "2023-07-05T09:44:22.969504",
   "environment_variables": {},
   "exception": null,
   "input_path": "__notebook__.ipynb",
   "output_path": "__notebook__.ipynb",
   "parameters": {},
   "start_time": "2023-07-05T09:44:07.607983",
   "version": "2.4.0"
  }
 },
 "nbformat": 4,
 "nbformat_minor": 5
}
